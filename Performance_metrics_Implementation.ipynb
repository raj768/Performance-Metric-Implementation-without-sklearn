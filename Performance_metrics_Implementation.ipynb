{
  "nbformat": 4,
  "nbformat_minor": 0,
  "metadata": {
    "colab": {
      "name": "Performance_metrics_Implementation.ipynb",
      "provenance": [],
      "collapsed_sections": []
    },
    "language_info": {
      "codemirror_mode": {
        "name": "ipython",
        "version": 3
      },
      "file_extension": ".py",
      "mimetype": "text/x-python",
      "name": "python",
      "nbconvert_exporter": "python",
      "pygments_lexer": "ipython3",
      "version": "3.6.8"
    },
    "kernelspec": {
      "display_name": "Python 3",
      "language": "python",
      "name": "python3"
    }
  },
  "cells": [
    {
      "cell_type": "markdown",
      "metadata": {
        "id": "s0Ej_bXyQvnV",
        "colab_type": "text"
      },
      "source": [
        "# Compute performance metrics for the given Y and Y_score without sklearn"
      ]
    },
    {
      "cell_type": "code",
      "metadata": {
        "id": "4CHb6NE7Qvnc",
        "colab_type": "code",
        "colab": {}
      },
      "source": [
        "import numpy as np\n",
        "import pandas as pd\n"
      ],
      "execution_count": 1,
      "outputs": []
    },
    {
      "cell_type": "code",
      "metadata": {
        "id": "q95CzqCNprpz",
        "colab_type": "code",
        "colab": {
          "base_uri": "https://localhost:8080/",
          "height": 122
        },
        "outputId": "6516ee82-82e8-4b3e-c529-139b24691acd"
      },
      "source": [
        "from google.colab import drive\n",
        "drive.mount('/content/gdrive')"
      ],
      "execution_count": 2,
      "outputs": [
        {
          "output_type": "stream",
          "text": [
            "Go to this URL in a browser: https://accounts.google.com/o/oauth2/auth?client_id=947318989803-6bn6qk8qdgf4n4g3pfee6491hc0brc4i.apps.googleusercontent.com&redirect_uri=urn%3aietf%3awg%3aoauth%3a2.0%3aoob&response_type=code&scope=email%20https%3a%2f%2fwww.googleapis.com%2fauth%2fdocs.test%20https%3a%2f%2fwww.googleapis.com%2fauth%2fdrive%20https%3a%2f%2fwww.googleapis.com%2fauth%2fdrive.photos.readonly%20https%3a%2f%2fwww.googleapis.com%2fauth%2fpeopleapi.readonly\n",
            "\n",
            "Enter your authorization code:\n",
            "··········\n",
            "Mounted at /content/gdrive\n"
          ],
          "name": "stdout"
        }
      ]
    },
    {
      "cell_type": "code",
      "metadata": {
        "id": "5S--XZ66CUzA",
        "colab_type": "code",
        "colab": {}
      },
      "source": [
        "a_data=pd.read_csv('gdrive/My Drive/Colab Notebooks/5_a.csv')\n",
        "b_data=pd.read_csv('gdrive/My Drive/Colab Notebooks/5_b.csv')\n",
        "c_data=pd.read_csv('gdrive/My Drive/Colab Notebooks/5_c.csv')\n",
        "d_data=pd.read_csv('gdrive/My Drive/Colab Notebooks/5_d.csv')"
      ],
      "execution_count": 3,
      "outputs": []
    },
    {
      "cell_type": "code",
      "metadata": {
        "id": "km_f3Cm7Hn8j",
        "colab_type": "code",
        "colab": {
          "base_uri": "https://localhost:8080/",
          "height": 68
        },
        "outputId": "2103bd11-94e6-40e7-f008-de02e10b281c"
      },
      "source": [
        "a_data['y'].value_counts()"
      ],
      "execution_count": 4,
      "outputs": [
        {
          "output_type": "execute_result",
          "data": {
            "text/plain": [
              "1.0    10000\n",
              "0.0      100\n",
              "Name: y, dtype: int64"
            ]
          },
          "metadata": {
            "tags": []
          },
          "execution_count": 4
        }
      ]
    },
    {
      "cell_type": "code",
      "metadata": {
        "id": "f5-GjP_3IZcV",
        "colab_type": "code",
        "colab": {}
      },
      "source": [
        "def abc(x):\n",
        "  if x<0.5:\n",
        "    return 0\n",
        "  else:\n",
        "    return 1  "
      ],
      "execution_count": 6,
      "outputs": []
    },
    {
      "cell_type": "code",
      "metadata": {
        "id": "1Y_ke7WTmDrj",
        "colab_type": "code",
        "colab": {}
      },
      "source": [
        "a_data['y_pred']=a_data['proba']"
      ],
      "execution_count": 7,
      "outputs": []
    },
    {
      "cell_type": "code",
      "metadata": {
        "id": "qQMQDYSXIqHt",
        "colab_type": "code",
        "colab": {}
      },
      "source": [
        "a_data['y_pred']=a_data['y_pred'].apply(lambda x:abc(x))"
      ],
      "execution_count": 8,
      "outputs": []
    },
    {
      "cell_type": "code",
      "metadata": {
        "id": "_x5_B2yUJC2w",
        "colab_type": "code",
        "colab": {
          "base_uri": "https://localhost:8080/",
          "height": 51
        },
        "outputId": "4dd3aaea-7eb1-4146-ceab-e23af2858fe3"
      },
      "source": [
        "a_data['y_pred'].value_counts()"
      ],
      "execution_count": 9,
      "outputs": [
        {
          "output_type": "execute_result",
          "data": {
            "text/plain": [
              "1    10100\n",
              "Name: y_pred, dtype: int64"
            ]
          },
          "metadata": {
            "tags": []
          },
          "execution_count": 9
        }
      ]
    },
    {
      "cell_type": "markdown",
      "metadata": {
        "id": "rY0IMfSCts6k",
        "colab_type": "text"
      },
      "source": [
        "F1 Score Implementation"
      ]
    },
    {
      "cell_type": "code",
      "metadata": {
        "id": "zOQMHTfkdoxM",
        "colab_type": "code",
        "colab": {}
      },
      "source": [
        "def F1_score(a,b):\n",
        "  precision_score=len(df[(a==1) & (b==1)])/len(df[b==1])\n",
        "  recall=len(df[(a==1) & (b==1)])/len(df[a==1])\n",
        "  F1=(2*precision_score*recall)/(precision_score+recall)\n",
        "  return F1"
      ],
      "execution_count": 10,
      "outputs": []
    },
    {
      "cell_type": "code",
      "metadata": {
        "id": "GwHAiCKDoVaa",
        "colab_type": "code",
        "colab": {
          "base_uri": "https://localhost:8080/",
          "height": 34
        },
        "outputId": "ae1b49b9-8d38-4e26-bfcb-7f275f455ce5"
      },
      "source": [
        "df=a_data\n",
        "a=a_data['y']\n",
        "b=a_data['y_pred']\n",
        "F1_score(a,b)"
      ],
      "execution_count": 11,
      "outputs": [
        {
          "output_type": "execute_result",
          "data": {
            "text/plain": [
              "0.9950248756218906"
            ]
          },
          "metadata": {
            "tags": []
          },
          "execution_count": 11
        }
      ]
    },
    {
      "cell_type": "markdown",
      "metadata": {
        "id": "4I3ioC9Dx4az",
        "colab_type": "text"
      },
      "source": [
        "Confusion Matrix Implementation"
      ]
    },
    {
      "cell_type": "code",
      "metadata": {
        "id": "Lw4oG56EoU22",
        "colab_type": "code",
        "colab": {}
      },
      "source": [
        "def confusion_matrix(a,b):\n",
        "  s=np.zeros((2,2))\n",
        "  for i in range(len(s)):  \n",
        "    if i==0:\n",
        "      for j in range(len(s[0])):\n",
        "        if j==0:\n",
        "          s[i][j]=len(df[(a==0) & (b==0)])  ##True negative\n",
        "        elif j==1:\n",
        "          s[i][j]=len(df[(a==1) & (b==0)])  ##False negative\n",
        "    elif i==1:\n",
        "      for j in range(len(s[0])):\n",
        "        if j==0:\n",
        "          s[i][j]=len(df[(a==0) & (b==1)])  ##False positive\n",
        "        elif j==1:\n",
        "          s[i][j]=len(df[(a==1) & (b==1)])  ##True positive\n",
        "  return s "
      ],
      "execution_count": 12,
      "outputs": []
    },
    {
      "cell_type": "code",
      "metadata": {
        "id": "ytYmcVlHtCPn",
        "colab_type": "code",
        "colab": {
          "base_uri": "https://localhost:8080/",
          "height": 51
        },
        "outputId": "3af09061-c9eb-49ef-906e-e67a3b4b38a1"
      },
      "source": [
        "df=a_data\n",
        "a=a_data['y']\n",
        "b=a_data['y_pred']\n",
        "confusion_matrix(a,b)"
      ],
      "execution_count": 13,
      "outputs": [
        {
          "output_type": "execute_result",
          "data": {
            "text/plain": [
              "array([[    0.,     0.],\n",
              "       [  100., 10000.]])"
            ]
          },
          "metadata": {
            "tags": []
          },
          "execution_count": 13
        }
      ]
    },
    {
      "cell_type": "code",
      "metadata": {
        "id": "VsPTIyl51Dd8",
        "colab_type": "code",
        "colab": {
          "base_uri": "https://localhost:8080/",
          "height": 419
        },
        "outputId": "4ed1de3a-ebcd-4591-83c0-614141b23d98"
      },
      "source": [
        "a_data"
      ],
      "execution_count": 14,
      "outputs": [
        {
          "output_type": "execute_result",
          "data": {
            "text/html": [
              "<div>\n",
              "<style scoped>\n",
              "    .dataframe tbody tr th:only-of-type {\n",
              "        vertical-align: middle;\n",
              "    }\n",
              "\n",
              "    .dataframe tbody tr th {\n",
              "        vertical-align: top;\n",
              "    }\n",
              "\n",
              "    .dataframe thead th {\n",
              "        text-align: right;\n",
              "    }\n",
              "</style>\n",
              "<table border=\"1\" class=\"dataframe\">\n",
              "  <thead>\n",
              "    <tr style=\"text-align: right;\">\n",
              "      <th></th>\n",
              "      <th>y</th>\n",
              "      <th>proba</th>\n",
              "      <th>y_pred</th>\n",
              "    </tr>\n",
              "  </thead>\n",
              "  <tbody>\n",
              "    <tr>\n",
              "      <th>0</th>\n",
              "      <td>1.0</td>\n",
              "      <td>0.637387</td>\n",
              "      <td>1</td>\n",
              "    </tr>\n",
              "    <tr>\n",
              "      <th>1</th>\n",
              "      <td>1.0</td>\n",
              "      <td>0.635165</td>\n",
              "      <td>1</td>\n",
              "    </tr>\n",
              "    <tr>\n",
              "      <th>2</th>\n",
              "      <td>1.0</td>\n",
              "      <td>0.766586</td>\n",
              "      <td>1</td>\n",
              "    </tr>\n",
              "    <tr>\n",
              "      <th>3</th>\n",
              "      <td>1.0</td>\n",
              "      <td>0.724564</td>\n",
              "      <td>1</td>\n",
              "    </tr>\n",
              "    <tr>\n",
              "      <th>4</th>\n",
              "      <td>1.0</td>\n",
              "      <td>0.889199</td>\n",
              "      <td>1</td>\n",
              "    </tr>\n",
              "    <tr>\n",
              "      <th>...</th>\n",
              "      <td>...</td>\n",
              "      <td>...</td>\n",
              "      <td>...</td>\n",
              "    </tr>\n",
              "    <tr>\n",
              "      <th>10095</th>\n",
              "      <td>1.0</td>\n",
              "      <td>0.665371</td>\n",
              "      <td>1</td>\n",
              "    </tr>\n",
              "    <tr>\n",
              "      <th>10096</th>\n",
              "      <td>1.0</td>\n",
              "      <td>0.607961</td>\n",
              "      <td>1</td>\n",
              "    </tr>\n",
              "    <tr>\n",
              "      <th>10097</th>\n",
              "      <td>1.0</td>\n",
              "      <td>0.777724</td>\n",
              "      <td>1</td>\n",
              "    </tr>\n",
              "    <tr>\n",
              "      <th>10098</th>\n",
              "      <td>1.0</td>\n",
              "      <td>0.846036</td>\n",
              "      <td>1</td>\n",
              "    </tr>\n",
              "    <tr>\n",
              "      <th>10099</th>\n",
              "      <td>1.0</td>\n",
              "      <td>0.679507</td>\n",
              "      <td>1</td>\n",
              "    </tr>\n",
              "  </tbody>\n",
              "</table>\n",
              "<p>10100 rows × 3 columns</p>\n",
              "</div>"
            ],
            "text/plain": [
              "         y     proba  y_pred\n",
              "0      1.0  0.637387       1\n",
              "1      1.0  0.635165       1\n",
              "2      1.0  0.766586       1\n",
              "3      1.0  0.724564       1\n",
              "4      1.0  0.889199       1\n",
              "...    ...       ...     ...\n",
              "10095  1.0  0.665371       1\n",
              "10096  1.0  0.607961       1\n",
              "10097  1.0  0.777724       1\n",
              "10098  1.0  0.846036       1\n",
              "10099  1.0  0.679507       1\n",
              "\n",
              "[10100 rows x 3 columns]"
            ]
          },
          "metadata": {
            "tags": []
          },
          "execution_count": 14
        }
      ]
    },
    {
      "cell_type": "code",
      "metadata": {
        "id": "HIk9QLiwzKMQ",
        "colab_type": "code",
        "colab": {}
      },
      "source": [
        "df=a_data\n",
        "a=a_data['y']\n",
        "b=a_data['y_pred']\n",
        "c=a_data['proba']"
      ],
      "execution_count": null,
      "outputs": []
    },
    {
      "cell_type": "code",
      "metadata": {
        "id": "n2Acn8Szy47C",
        "colab_type": "code",
        "colab": {}
      },
      "source": [
        "a_list=list(a)\n",
        "b_list=list(b)\n",
        "c_list=list(c)"
      ],
      "execution_count": null,
      "outputs": []
    },
    {
      "cell_type": "markdown",
      "metadata": {
        "id": "1JTQCSpz7zU4",
        "colab_type": "text"
      },
      "source": [
        "ROC-AUC Implementation"
      ]
    },
    {
      "cell_type": "code",
      "metadata": {
        "id": "tWqvPZ_K7vuC",
        "colab_type": "code",
        "colab": {}
      },
      "source": [
        "def roc_auc_score(Y_true,Y_score):\n",
        "  tpr,fpr=[],[]\n",
        "  for i in Y_score:\n",
        "    a_data['Y_predict']=np.where(a_data['proba']<i,0,1)\n",
        "    q=len(a_data[(a_data['y']==1) & (a_data['Y_predict']==1)])/len(a_data[a_data['y']==1])\n",
        "    r=len(a_data[(a_data['y']==0) & (a_data['Y_predict']==1)])/len(a_data[a_data['y']==0])\n",
        "    tpr.append(q)\n",
        "    fpr.append(r)\n",
        "    tpr_array=np.array(tpr)\n",
        "    fpr_array=np.array(fpr)\n",
        "  print(np.trapz(tpr_array, fpr_array))"
      ],
      "execution_count": null,
      "outputs": []
    },
    {
      "cell_type": "code",
      "metadata": {
        "id": "kVv5xjad8jfb",
        "colab_type": "code",
        "colab": {
          "base_uri": "https://localhost:8080/",
          "height": 34
        },
        "outputId": "3a08a2fd-8f13-43ab-da36-e5366bc241e0"
      },
      "source": [
        "Y_true=a_data['y']\n",
        "Y_true=list(Y_true)\n",
        "Y_score=a_data['proba']\n",
        "Y_score=sorted(Y_score,reverse=True)\n",
        "roc_auc_score(Y_true,Y_score)"
      ],
      "execution_count": null,
      "outputs": [
        {
          "output_type": "stream",
          "text": [
            "0.48829900000000004\n"
          ],
          "name": "stdout"
        }
      ]
    },
    {
      "cell_type": "code",
      "metadata": {
        "id": "VCKWmQraA81x",
        "colab_type": "code",
        "colab": {
          "base_uri": "https://localhost:8080/",
          "height": 68
        },
        "outputId": "7ae16192-961c-49be-df2e-ecf8273cf748"
      },
      "source": [
        "a_data['y'].value_counts()"
      ],
      "execution_count": null,
      "outputs": [
        {
          "output_type": "execute_result",
          "data": {
            "text/plain": [
              "1.0    10000\n",
              "0.0      100\n",
              "Name: y, dtype: int64"
            ]
          },
          "metadata": {
            "tags": []
          },
          "execution_count": 84
        }
      ]
    },
    {
      "cell_type": "code",
      "metadata": {
        "id": "StgG5rRzCPBY",
        "colab_type": "code",
        "colab": {}
      },
      "source": [
        "def accuracy_score(a,b):\n",
        "  accuracy=(len(df[(a==1) & (b==1)])+len(df[(a==0) & (b==0)])) /(len(df[a==1])+len(df[a==0]))\n",
        "  return accuracy\n"
      ],
      "execution_count": null,
      "outputs": []
    },
    {
      "cell_type": "code",
      "metadata": {
        "id": "krqNvGfgDfxo",
        "colab_type": "code",
        "colab": {
          "base_uri": "https://localhost:8080/",
          "height": 34
        },
        "outputId": "aef7dbc5-600d-4925-b285-deeb1dec22bf"
      },
      "source": [
        "df=a_data\n",
        "a=a_data['y']\n",
        "b=a_data['y_pred']\n",
        "accuracy_score(a,b)"
      ],
      "execution_count": null,
      "outputs": [
        {
          "output_type": "execute_result",
          "data": {
            "text/plain": [
              "0.9900990099009901"
            ]
          },
          "metadata": {
            "tags": []
          },
          "execution_count": 110
        }
      ]
    },
    {
      "cell_type": "code",
      "metadata": {
        "id": "hMU6qMfFA4oa",
        "colab_type": "code",
        "colab": {}
      },
      "source": [
        "len(a_data[(a_data['y']==1) & (a_data['y_pred']==1)])/len(a_data[a_data['y']==1])+len(a_data[a_data['y']==0])"
      ],
      "execution_count": null,
      "outputs": []
    },
    {
      "cell_type": "code",
      "metadata": {
        "id": "PCkc8xRNAahj",
        "colab_type": "code",
        "colab": {
          "base_uri": "https://localhost:8080/",
          "height": 51
        },
        "outputId": "d78271e8-a885-47e0-9276-9fef47a42489"
      },
      "source": [
        "a_data['Y_predict'].value_counts()"
      ],
      "execution_count": null,
      "outputs": [
        {
          "output_type": "execute_result",
          "data": {
            "text/plain": [
              "1    10100\n",
              "Name: Y_predict, dtype: int64"
            ]
          },
          "metadata": {
            "tags": []
          },
          "execution_count": 83
        }
      ]
    },
    {
      "cell_type": "code",
      "metadata": {
        "id": "x5HIJzq1QvoE",
        "colab_type": "code",
        "colab": {}
      },
      "source": [
        "c_data=pd.read_csv('gdrive/My Drive/Colab Notebooks/5_c.csv')"
      ],
      "execution_count": null,
      "outputs": []
    },
    {
      "cell_type": "code",
      "metadata": {
        "id": "fImUnx5UhGk0",
        "colab_type": "code",
        "colab": {}
      },
      "source": [
        "def best_threshold(Y_true,Y_score):   #Finding Best Threshold\n",
        "  A=[]\n",
        "  for i in Y_score:\n",
        "    c_data['Y_predict']=np.where(c_data['prob']<i,0,1)\n",
        "    metric=(500*(len(c_data[(c_data['y']==1) & (c_data['Y_predict']==0)])))+(100*(len(c_data[(c_data['y']==0) & (c_data['Y_predict']==1)])))\n",
        "    A.append(metric)\n",
        "    A_list=list(zip(A,Y_score))\n",
        "    A_list=sorted(A_list)\n",
        "    bst_threshold=A_list[0][1]\n",
        "\n",
        "  return bst_threshold\n",
        "    "
      ],
      "execution_count": null,
      "outputs": []
    },
    {
      "cell_type": "code",
      "metadata": {
        "id": "2NIb_f3vlBke",
        "colab_type": "code",
        "colab": {
          "base_uri": "https://localhost:8080/",
          "height": 34
        },
        "outputId": "0441bf5a-76ae-4cca-eb44-d0044441b626"
      },
      "source": [
        "Y_true=c_data['y']\n",
        "Y_true=list(Y_true)\n",
        "Y_score=c_data['prob']\n",
        "Y_score=sorted(Y_score,reverse=True)\n",
        "best_threshold(Y_true,Y_score)"
      ],
      "execution_count": null,
      "outputs": [
        {
          "output_type": "execute_result",
          "data": {
            "text/plain": [
              "0.2300390278970873"
            ]
          },
          "metadata": {
            "tags": []
          },
          "execution_count": 180
        }
      ]
    },
    {
      "cell_type": "code",
      "metadata": {
        "id": "cTqbY6DYPA_B",
        "colab_type": "code",
        "colab": {}
      },
      "source": [
        "d_data=pd.read_csv('gdrive/My Drive/Colab Notebooks/5_d.csv')"
      ],
      "execution_count": null,
      "outputs": []
    },
    {
      "cell_type": "code",
      "metadata": {
        "id": "rkvmIzcYPHnq",
        "colab_type": "code",
        "colab": {
          "base_uri": "https://localhost:8080/",
          "height": 419
        },
        "outputId": "ec3c1fd9-f059-4994-8bc2-c89724823ffd"
      },
      "source": [
        "d_data"
      ],
      "execution_count": null,
      "outputs": [
        {
          "output_type": "execute_result",
          "data": {
            "text/html": [
              "<div>\n",
              "<style scoped>\n",
              "    .dataframe tbody tr th:only-of-type {\n",
              "        vertical-align: middle;\n",
              "    }\n",
              "\n",
              "    .dataframe tbody tr th {\n",
              "        vertical-align: top;\n",
              "    }\n",
              "\n",
              "    .dataframe thead th {\n",
              "        text-align: right;\n",
              "    }\n",
              "</style>\n",
              "<table border=\"1\" class=\"dataframe\">\n",
              "  <thead>\n",
              "    <tr style=\"text-align: right;\">\n",
              "      <th></th>\n",
              "      <th>y</th>\n",
              "      <th>pred</th>\n",
              "    </tr>\n",
              "  </thead>\n",
              "  <tbody>\n",
              "    <tr>\n",
              "      <th>0</th>\n",
              "      <td>101.0</td>\n",
              "      <td>100.0</td>\n",
              "    </tr>\n",
              "    <tr>\n",
              "      <th>1</th>\n",
              "      <td>120.0</td>\n",
              "      <td>100.0</td>\n",
              "    </tr>\n",
              "    <tr>\n",
              "      <th>2</th>\n",
              "      <td>131.0</td>\n",
              "      <td>113.0</td>\n",
              "    </tr>\n",
              "    <tr>\n",
              "      <th>3</th>\n",
              "      <td>164.0</td>\n",
              "      <td>125.0</td>\n",
              "    </tr>\n",
              "    <tr>\n",
              "      <th>4</th>\n",
              "      <td>154.0</td>\n",
              "      <td>152.0</td>\n",
              "    </tr>\n",
              "    <tr>\n",
              "      <th>...</th>\n",
              "      <td>...</td>\n",
              "      <td>...</td>\n",
              "    </tr>\n",
              "    <tr>\n",
              "      <th>157195</th>\n",
              "      <td>87.0</td>\n",
              "      <td>83.0</td>\n",
              "    </tr>\n",
              "    <tr>\n",
              "      <th>157196</th>\n",
              "      <td>97.0</td>\n",
              "      <td>86.0</td>\n",
              "    </tr>\n",
              "    <tr>\n",
              "      <th>157197</th>\n",
              "      <td>106.0</td>\n",
              "      <td>93.0</td>\n",
              "    </tr>\n",
              "    <tr>\n",
              "      <th>157198</th>\n",
              "      <td>105.0</td>\n",
              "      <td>101.0</td>\n",
              "    </tr>\n",
              "    <tr>\n",
              "      <th>157199</th>\n",
              "      <td>81.0</td>\n",
              "      <td>104.0</td>\n",
              "    </tr>\n",
              "  </tbody>\n",
              "</table>\n",
              "<p>157200 rows × 2 columns</p>\n",
              "</div>"
            ],
            "text/plain": [
              "            y   pred\n",
              "0       101.0  100.0\n",
              "1       120.0  100.0\n",
              "2       131.0  113.0\n",
              "3       164.0  125.0\n",
              "4       154.0  152.0\n",
              "...       ...    ...\n",
              "157195   87.0   83.0\n",
              "157196   97.0   86.0\n",
              "157197  106.0   93.0\n",
              "157198  105.0  101.0\n",
              "157199   81.0  104.0\n",
              "\n",
              "[157200 rows x 2 columns]"
            ]
          },
          "metadata": {
            "tags": []
          },
          "execution_count": 4
        }
      ]
    },
    {
      "cell_type": "code",
      "metadata": {
        "id": "8gX9neA7bUcW",
        "colab_type": "code",
        "colab": {}
      },
      "source": [
        "d_data_l=d_data[d_data['y']!=0]"
      ],
      "execution_count": null,
      "outputs": []
    },
    {
      "cell_type": "code",
      "metadata": {
        "id": "fPaF7pSAcAPL",
        "colab_type": "code",
        "colab": {
          "base_uri": "https://localhost:8080/",
          "height": 34
        },
        "outputId": "a21ce0af-2f2b-4ca1-9670-e32085175714"
      },
      "source": [
        "d_data_l.shape"
      ],
      "execution_count": null,
      "outputs": [
        {
          "output_type": "execute_result",
          "data": {
            "text/plain": [
              "(151483, 2)"
            ]
          },
          "metadata": {
            "tags": []
          },
          "execution_count": 6
        }
      ]
    },
    {
      "cell_type": "code",
      "metadata": {
        "id": "85ztcozmPM1B",
        "colab_type": "code",
        "colab": {
          "base_uri": "https://localhost:8080/",
          "height": 34
        },
        "outputId": "7a538491-3b60-408c-f09f-22a3aff32380"
      },
      "source": [
        "d_data.shape[0]"
      ],
      "execution_count": null,
      "outputs": [
        {
          "output_type": "execute_result",
          "data": {
            "text/plain": [
              "157200"
            ]
          },
          "metadata": {
            "tags": []
          },
          "execution_count": 7
        }
      ]
    },
    {
      "cell_type": "code",
      "metadata": {
        "id": "--kf8U-MKfXV",
        "colab_type": "code",
        "colab": {}
      },
      "source": [
        "def mean_squared_error(a,b):\n",
        "  return np.mean(np.square(a-b))"
      ],
      "execution_count": null,
      "outputs": []
    },
    {
      "cell_type": "code",
      "metadata": {
        "id": "lo1Xt4uRPu4a",
        "colab_type": "code",
        "colab": {
          "base_uri": "https://localhost:8080/",
          "height": 34
        },
        "outputId": "9425cfee-8106-480e-8519-d7f12f7335f8"
      },
      "source": [
        "df=d_data\n",
        "a=d_data['y']\n",
        "b=d_data['pred']\n",
        "mean_squared_error(a,b)"
      ],
      "execution_count": null,
      "outputs": [
        {
          "output_type": "execute_result",
          "data": {
            "text/plain": [
              "177.16569974554707"
            ]
          },
          "metadata": {
            "tags": []
          },
          "execution_count": 17
        }
      ]
    },
    {
      "cell_type": "code",
      "metadata": {
        "id": "7WdHa7uCP77o",
        "colab_type": "code",
        "colab": {}
      },
      "source": [
        "def mean_absolute_percentage_error(a,b):\n",
        "\n",
        "\n",
        "  return ((np.abs((a-b)/a)).mean())*100"
      ],
      "execution_count": null,
      "outputs": []
    },
    {
      "cell_type": "code",
      "metadata": {
        "id": "9GJK2s9aXkiT",
        "colab_type": "code",
        "colab": {
          "base_uri": "https://localhost:8080/",
          "height": 34
        },
        "outputId": "ab86c685-b101-4712-92d6-37e26aa22d05"
      },
      "source": [
        "df=d_data_l\n",
        "a=d_data_l['y']\n",
        "b=d_data_l['pred']\n",
        "mean_absolute_percentage_error(a,b)"
      ],
      "execution_count": null,
      "outputs": [
        {
          "output_type": "execute_result",
          "data": {
            "text/plain": [
              "29.130987886510578"
            ]
          },
          "metadata": {
            "tags": []
          },
          "execution_count": 11
        }
      ]
    },
    {
      "cell_type": "code",
      "metadata": {
        "id": "UyiZ2ZEoXqJU",
        "colab_type": "code",
        "colab": {}
      },
      "source": [
        "def R_squared(a,b):\n",
        "  y_mean=np.mean(a)\n",
        "  c=((a-b)**2).sum()\n",
        "  d=((a-y_mean)**2).sum()\n",
        "  return (1-(c/d))\n"
      ],
      "execution_count": null,
      "outputs": []
    },
    {
      "cell_type": "code",
      "metadata": {
        "id": "oQSkOjTV3l9z",
        "colab_type": "code",
        "colab": {
          "base_uri": "https://localhost:8080/",
          "height": 34
        },
        "outputId": "4a2ba6e5-5b5e-4b09-b3b9-49bd8b5215f4"
      },
      "source": [
        "df=d_data\n",
        "a=d_data['y']\n",
        "b=d_data['pred']\n",
        "R_squared(a,b)"
      ],
      "execution_count": null,
      "outputs": [
        {
          "output_type": "execute_result",
          "data": {
            "text/plain": [
              "0.9563582786990937"
            ]
          },
          "metadata": {
            "tags": []
          },
          "execution_count": 13
        }
      ]
    },
    {
      "cell_type": "code",
      "metadata": {
        "id": "WeksdRfO3shV",
        "colab_type": "code",
        "colab": {}
      },
      "source": [
        ""
      ],
      "execution_count": null,
      "outputs": []
    }
  ]
}